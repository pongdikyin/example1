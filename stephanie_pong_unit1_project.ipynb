{
 "cells": [
  {
   "cell_type": "markdown",
   "metadata": {},
   "source": [
    "<img src=\"http://imgur.com/1ZcRyrc.png\" style=\"float: left; margin: 20px; height: 55px\">\n",
    "\n",
    "# Project 1: Python Coding Exercises\n",
    "\n",
    "_Authors: Joseph Nelson (DC) _\n",
    "\n",
    "---"
   ]
  },
  {
   "cell_type": "markdown",
   "metadata": {},
   "source": [
    "The following code challenges are drawn from common exercises used in technical interviews.\n",
    "\n",
    "Please note that there may be several ways to approach each challenge. If you get stuck, try mapping out your approach in pseudocode first. Finally, while solutions to problems like these may be found online, remember that if you copy/paste code that you can't explain, you'll be missing out on the point of the project. The only way to truly learn a new skill is through practice, trial, and error - we can only help you improve by understanding where you are having trouble."
   ]
  },
  {
   "cell_type": "markdown",
   "metadata": {},
   "source": [
    "### Challenge 1: Largest Palindrome\n",
    "A palindromic number reads the same both ways. For example, 1234321 is a palindrome. The largest palindrome made from the product of two two-digit numbers is 9009 = 91 × 99. Find the largest palindrome made from the product of two three-digit numbers. Afterward, write a brief explanation walking through your code's logic in markdown."
   ]
  },
  {
   "cell_type": "code",
   "execution_count": 2,
   "metadata": {
    "collapsed": true
   },
   "outputs": [
    {
     "name": "stdout",
     "output_type": "stream",
     "text": [
      "906609\n"
     ]
    }
   ],
   "source": [
    "'''\n",
    "Use for loop to test all numbers with the products of 3 digits from 100 to 999.\n",
    "Use if statement to compare results from reversed string and see if the they are equal. \n",
    "Then, replace the result with a larger value in order to get the largest palindrome.\n",
    "'''\n",
    "largest = 0 #initiate a variable to store the largest value\n",
    "for w in range(100,1000):#Use a for loop to run through 3 digits number (100-999) for first number.\n",
    "    for x in range(100,1000):#Use a for loop to run through 3 digits number (100-999) for second number.\n",
    "        result = w * x #Calculate the result of 2 product number\n",
    "        reverse = str(result)[::-1] #reverse the result and save it in another variable(reverse)\n",
    "        if str(result) == reverse: #compare two value\n",
    "            if result > largest: # save/replace the value in 'largest' with a larger value \n",
    "                largest = result\n",
    "print(largest)"
   ]
  },
  {
   "cell_type": "markdown",
   "metadata": {},
   "source": []
  },
  {
   "cell_type": "markdown",
   "metadata": {},
   "source": [
    "\n",
    "### Challenge 2: Summation of Primes\n",
    "The sum of the primes below 10 is 2 + 3 + 5 + 7 = 17. Find the sum of all the primes below 2,000. Afterward, write a brief explanation walking through your code's logic in markdown."
   ]
  },
  {
   "cell_type": "code",
   "execution_count": 8,
   "metadata": {
    "collapsed": true
   },
   "outputs": [
    {
     "name": "stdout",
     "output_type": "stream",
     "text": [
      "277050\n"
     ]
    }
   ],
   "source": [
    "'''\n",
    "Use for loop to determine the numbers from 3 to 1999 that can be divided by the number from 2 up to the the dividend itself. . remainder of A prime number is a natural number greater than 1 \n",
    "that cannot be formed by multiplying two smaller natural numbers\n",
    "\n",
    "It is a prime if the count () is equal to zero. \n",
    "'''\n",
    "answer = 0 #initiate a variable to calculate the final answer\n",
    "primes = []#Create an empty list to capture all prime numbers\n",
    "\n",
    "for x in range (2,2000): #Dividen (x) range is 2 - 1999\n",
    "    count = 0 #Reset the \"no remainder\" count when the loop is working on a new dividen\n",
    "    for num in range(2,x):#Divisor range starting from 2 to dividen itself -1, as we don't need to divide the number x by 0, 1 and itself.  \n",
    "        if x%num == 0: #if there is no remainder, it is not a prime\n",
    "            count += 1 #count one if there's no remainder\n",
    "    if count == 0: #if there's zero 'no reminder' count, it is a prime number\n",
    "        primes.append(x) # add the prime number to the primes list \n",
    "for prime in primes: #use a for loop to run through all prime number in the primes list\n",
    "    answer = answer + prime #add up the value inside the primes list #sum up the prime numbers\n",
    "print(answer)\n",
    "\n"
   ]
  },
  {
   "cell_type": "markdown",
   "metadata": {},
   "source": []
  },
  {
   "cell_type": "markdown",
   "metadata": {},
   "source": [
    "### Challenge 3: Multiples of 3 and 5\n",
    "If we list all of the natural numbers below 10 that are multiples of 3 or 5, we get 3, 5, 6, and 9. The sum of these multiples is 23. Find the sum of all the multiples of 3 or 5 below 1,000. Afterward, write a brief explanation walking through your code's logic in markdown."
   ]
  },
  {
   "cell_type": "code",
   "execution_count": 12,
   "metadata": {
    "collapsed": true
   },
   "outputs": [
    {
     "name": "stdout",
     "output_type": "stream",
     "text": [
      "233168\n"
     ]
    }
   ],
   "source": [
    "'''\n",
    "Use for loop to determine the number from 0 to 999 (below 1000) that can be divided by 3 or 5 with zero remainder.\n",
    "Add those number into a numlist List, then use a for loop to add up all the number in the numlist.\n",
    "'''\n",
    "numlist = [] #create an empty list to capture all number tha can be divided by 3 or 5\n",
    "answer = 0 #initiate a variable to calculate the final amswer\n",
    "\n",
    "for n in range(1000): #for loop to run throug the number from 0 to 999\n",
    "    if (n%3 == 0) | (n%5 == 0): #divide the num by 3 or 5 seperately. if either one has no remainder\n",
    "        numlist.append(n) #the number will be saved in numlist\n",
    "for num in numlist: #run through each number in numlist\n",
    "    answer = answer + num #add the number tot he currecnt answer and replacing the new value to answer\n",
    "print(answer)\n"
   ]
  },
  {
   "cell_type": "markdown",
   "metadata": {},
   "source": []
  },
  {
   "cell_type": "markdown",
   "metadata": {},
   "source": [
    "### Challenge 4: String Compressor\n",
    "Implement a method to perform basic string compression using the counts of repeated characters. (This is called run-length encoding.) For example, the string \"aabcccccaaa\" would become a2b1c5a3. If the “compressed” string would not become smaller than the original string, your method should return the original string. You can assume the string has only uppercase and lowercase letters (a–z). Specify whether your solution is case sensitive or case insensitive and what you would need to change to make it the other. Afterward, write a brief explanation walking through your code's logic in markdown."
   ]
  },
  {
   "cell_type": "code",
   "execution_count": 3,
   "metadata": {
    "collapsed": true
   },
   "outputs": [
    {
     "name": "stdout",
     "output_type": "stream",
     "text": [
      "a2b1c5a3\n"
     ]
    }
   ],
   "source": [
    "'''\n",
    "Use for loop to Compare the charater which is in currect position with the next position. If the characters are the same, override the accumalative counts. \n",
    "Otherwise, add the new character and count to the string.\n",
    "\n",
    "Then, use the if statement to compare the length of the basic string and the \"compressed\" string. \n",
    "Print out the string that has a longer length.\n",
    "\n",
    "*Case insensative solution: Apply .upper()/.lower() to the string\n",
    "'''\n",
    "string = 'aabcccccaaa'\n",
    "compressed = string[0]+str(1) #save the first char and first count to the compressed string\n",
    "index = 1 #to find the next value of a string\n",
    "count = 1 \n",
    "\n",
    "for char in string[:-1]:#for loop to run through the char in a string\n",
    "    if char == string[index]:#compare the currect value with the next value\n",
    "        count += 1 #accumulate the count if the char is the same\n",
    "        compressed = compressed[:-1] + str(count) #override the count\n",
    "    else:\n",
    "        count = 1  #override the count back to 1 when the next value is diff from current value (a new value)\n",
    "        compressed = compressed + string[index] + str(count) #add the new char and count to the string\n",
    "    index += 1 #store and accumulate the \"next value\" index while the for loop is running\n",
    "if len(string) > len(compressed):#compare the length of the basic string and the \"compressed\" string\n",
    "    print(compressed) #print the string that has a longer lengt\n",
    "else:\n",
    "    print(string) #print the string that has a longer lengt\n"
   ]
  },
  {
   "cell_type": "markdown",
   "metadata": {},
   "source": []
  },
  {
   "cell_type": "markdown",
   "metadata": {},
   "source": [
    "### Challenge 5: FizzBuzz\n",
    "\n",
    "Write a program that prints all of the numbers from 1 to 100. For multiples of 3, instead of the number, print \"Fizz;\" for multiples of 5, print \"Buzz.\" For numbers that are multiples of both 3 and 5, print \"FizzBuzz.\" Afterward, write a brief explanation walking through your code's logic in markdown."
   ]
  },
  {
   "cell_type": "code",
   "execution_count": 11,
   "metadata": {
    "collapsed": true
   },
   "outputs": [
    {
     "name": "stdout",
     "output_type": "stream",
     "text": [
      "Fizz\n",
      "Buzz\n",
      "Fizz\n",
      "Fizz\n",
      "Buzz\n",
      "Fizz\n",
      "FizzBuzz\n",
      "Fizz\n",
      "Buzz\n",
      "Fizz\n",
      "Fizz\n",
      "Buzz\n",
      "Fizz\n",
      "FizzBuzz\n",
      "Fizz\n",
      "Buzz\n",
      "Fizz\n",
      "Fizz\n",
      "Buzz\n",
      "Fizz\n",
      "FizzBuzz\n",
      "Fizz\n",
      "Buzz\n",
      "Fizz\n",
      "Fizz\n",
      "Buzz\n",
      "Fizz\n",
      "FizzBuzz\n",
      "Fizz\n",
      "Buzz\n",
      "Fizz\n",
      "Fizz\n",
      "Buzz\n",
      "Fizz\n",
      "FizzBuzz\n",
      "Fizz\n",
      "Buzz\n",
      "Fizz\n",
      "Fizz\n",
      "Buzz\n",
      "Fizz\n",
      "FizzBuzz\n",
      "Fizz\n",
      "Buzz\n",
      "Fizz\n",
      "Fizz\n",
      "Buzz\n"
     ]
    }
   ],
   "source": [
    "'''\n",
    "Use for loop to determine the number from 1 to 100 that can be divided by both 3 and 5, 3 only, and 5 only with zero remainder.\n",
    "Then, print out the result to \"FizzBuzz\", \"Fizz\", and \"Buzz\" respectively.\n",
    "'''\n",
    "for n in range(1,101):\n",
    "    if (n%3 == 0) & (n%5 == 0):\n",
    "        print('FizzBuzz')\n",
    "    elif n%3 == 0:\n",
    "        print('Fizz')\n",
    "    elif n%5 == 0:\n",
    "        print('Buzz') "
   ]
  },
  {
   "cell_type": "markdown",
   "metadata": {},
   "source": []
  }
 ],
 "metadata": {
  "anaconda-cloud": {},
  "kernelspec": {
   "display_name": "Python 3",
   "language": "python",
   "name": "python3"
  },
  "language_info": {
   "codemirror_mode": {
    "name": "ipython",
    "version": 3
   },
   "file_extension": ".py",
   "mimetype": "text/x-python",
   "name": "python",
   "nbconvert_exporter": "python",
   "pygments_lexer": "ipython3",
   "version": "3.7.0"
  }
 },
 "nbformat": 4,
 "nbformat_minor": 2
}
